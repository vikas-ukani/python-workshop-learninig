{
 "cells": [
  {
   "cell_type": "code",
   "execution_count": 2,
   "metadata": {},
   "outputs": [
    {
     "output_type": "stream",
     "name": "stdout",
     "text": "# Bubble sort code\n"
    }
   ],
   "source": [
    "print(\"# Bubble sort code\")\n"
   ]
  },
  {
   "cell_type": "code",
   "execution_count": 13,
   "metadata": {},
   "outputs": [
    {
     "output_type": "stream",
     "name": "stdout",
     "text": "Original List is \n [5, 1, 3, 4, 8, 6, 21, 10]\n"
    }
   ],
   "source": [
    "list = [5, 1, 3, 4, 8, 6, 21, 10]\n",
    "is_sorted = True\n",
    "\n",
    "\n",
    "print(\"Original List is \\n\", list)\n",
    "# print(\"is sorted \", is_sorted)\n"
   ]
  },
  {
   "cell_type": "code",
   "execution_count": 17,
   "metadata": {},
   "outputs": [
    {
     "output_type": "stream",
     "name": "stdout",
     "text": "Final Output of Bubble sort is \n [1, 3, 4, 5, 6, 8, 10, 21]\n3\n"
    }
   ],
   "source": [
    "# Bubble sortAlgorithm \n",
    "while is_sorted :\n",
    "    is_sorted = False\n",
    "    for i in range(len(list)-1):\n",
    "        if list[i] > list[i+1]:\n",
    "            list[i], list[i+1] = list[i+1] , list[i]\n",
    "            is_sorted = True\n",
    "\n",
    "\n",
    "print(\"Final Output of Bubble sort is \\n\", list)\n",
    "# print(list[1 ])\n"
   ]
  }
 ],
 "metadata": {
  "language_info": {
   "codemirror_mode": {
    "name": "ipython",
    "version": 3
   },
   "file_extension": ".py",
   "mimetype": "text/x-python",
   "name": "python",
   "nbconvert_exporter": "python",
   "pygments_lexer": "ipython3",
   "version": "3.7.4-final"
  },
  "orig_nbformat": 2,
  "kernelspec": {
   "name": "python37464bitenvvenv4c4fef665e5b4c319ca9b5ef8588100f",
   "display_name": "Python 3.7.4 64-bit ('env': venv)"
  }
 },
 "nbformat": 4,
 "nbformat_minor": 2
}