{
 "cells": [
  {
   "cell_type": "code",
   "execution_count": 56,
   "metadata": {},
   "outputs": [
    {
     "output_type": "stream",
     "name": "stdout",
     "text": "Original list [1, 5, 4, 8, 6, 9]\n"
    }
   ],
   "source": [
    "l = [ 1, 5, 4, 8, 6, 9 ]\n",
    "print(\"Original list \" + str(l))\n",
    "\n",
    "# Other Variable\n",
    "search_for = 5\n",
    "\n",
    "slice_start = 0\n",
    "slice_end = len(l) - 1\n",
    "\n",
    "found = False\n",
    "\n"
   ]
  },
  {
   "cell_type": "code",
   "execution_count": 57,
   "metadata": {},
   "outputs": [
    {
     "output_type": "stream",
     "name": "stdout",
     "text": "False\n3\n"
    }
   ],
   "source": [
    "while slice_start <= slice_end and not found:\n",
    "    location = (slice_start + slice_end) // 2\n",
    "    if l[location] == search_for:\n",
    "        found = True\n",
    "    else:\n",
    "        if search_for < l[location]:\n",
    "            slice_end = location - 1\n",
    "        else:\n",
    "            slice_start = location + 1\n",
    "\n",
    "print(found)\n",
    "print(location)\n"
   ]
  },
  {
   "cell_type": "code",
   "execution_count": 88,
   "metadata": {},
   "outputs": [
    {
     "output_type": "stream",
     "name": "stdout",
     "text": "2.200000380980782e-06 seconds elapsed\n8.150000030582305e-05 seconds elapsed\n0.00014259999989008065 seconds elapsed\n0.00016800000048533548 seconds elapsed\n0.00018790000103763305 seconds elapsed\n0.00026310000066587236 seconds elapsed\n0.00029150000045774505 seconds elapsed\n0.0003164999998261919 seconds elapsed\n0.00047620000077586155 seconds elapsed\n0.0005194000004848931 seconds elapsed\n0.0005450000007840572 seconds elapsed\n"
    },
    {
     "output_type": "execute_result",
     "data": {
      "text/plain": "100"
     },
     "metadata": {},
     "execution_count": 88
    }
   ],
   "source": [
    "\n",
    "import time\n",
    "def do_things():\n",
    "    start_time = time.perf_counter()\n",
    "    for i in range(10):\n",
    "        y = i ** 100\n",
    "        print(time.perf_counter() - start_time, \"seconds elapsed\")\n",
    "    x = 10**2\n",
    "    print(time.perf_counter() - start_time, \"seconds elapsed\")\n",
    "    return x\n",
    "do_things()"
   ]
  },
  {
   "cell_type": "code",
   "execution_count": 106,
   "metadata": {},
   "outputs": [
    {
     "output_type": "stream",
     "name": "stdout",
     "text": "6\n4\n"
    }
   ],
   "source": [
    "x = 4\n",
    "def myfunc():\n",
    "    x = 5\n",
    "    def inner():\n",
    "        \n",
    "        x = 6\n",
    "        print(x)\n",
    "    inner()\n",
    "myfunc()\n",
    "print(x)\n",
    "\n"
   ]
  },
  {
   "cell_type": "code",
   "execution_count": 155,
   "metadata": {},
   "outputs": [
    {
     "output_type": "stream",
     "name": "stdout",
     "text": "range(0, 1000)\n214216\n"
    }
   ],
   "source": [
    "nums = range(1000)\n",
    "print(nums)\n",
    "filtered = filter(lambda x: x % 3 == 0 or x % 7 == 0, nums)\n",
    "# print(\"Filter\", filtered)\n",
    "print(sum(filtered)\n",
    ")\n"
   ]
  },
  {
   "cell_type": "code",
   "execution_count": 161,
   "metadata": {},
   "outputs": [
    {
     "output_type": "stream",
     "name": "stdout",
     "text": "['Ming', 'Boris', 'Andrew', 'Jennifer']\n['Andrew', 'Boris', 'Jennifer', 'Ming']\n"
    }
   ],
   "source": [
    "names = ['Ming', 'Jennifer', 'Andrew', 'Boris']\n",
    "print(sorted(names, key=lambda x : len(x)))\n",
    "print(sorted(names))\n"
   ]
  }
 ],
 "metadata": {
  "language_info": {
   "codemirror_mode": {
    "name": "ipython",
    "version": 3
   },
   "file_extension": ".py",
   "mimetype": "text/x-python",
   "name": "python",
   "nbconvert_exporter": "python",
   "pygments_lexer": "ipython3",
   "version": "3.7.4-final"
  },
  "orig_nbformat": 2,
  "kernelspec": {
   "name": "python37464bitenvvenv4c4fef665e5b4c319ca9b5ef8588100f",
   "display_name": "Python 3.7.4 64-bit ('env': venv)"
  }
 },
 "nbformat": 4,
 "nbformat_minor": 2
}