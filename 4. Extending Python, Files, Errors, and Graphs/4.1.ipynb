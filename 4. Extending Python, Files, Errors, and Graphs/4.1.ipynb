{
 "cells": [
  {
   "cell_type": "code",
   "execution_count": null,
   "metadata": {
    "tags": [
     "outputPrepend"
    ]
   },
   "outputs": [],
   "source": [
    "file = open('pg37431.txt')\n",
    "text = file.read()\n",
    "print(text)"
   ]
  },
  {
   "cell_type": "code",
   "execution_count": null,
   "metadata": {
    "tags": [
     "outputPrepend"
    ]
   },
   "outputs": [],
   "source": [
    "try:\n",
    "    with open('pg37431.txt') as file:\n",
    "        # print(\"Single line reading =>  \",file.readline())\n",
    "        # print(\"Multi-line reading =>  \", file.readlines()  )    \n",
    "\n",
    "except FileNotFoundError:\n",
    "    print(\"File not found!!\")\n"
   ]
  },
  {
   "cell_type": "code",
   "execution_count": 61,
   "metadata": {},
   "outputs": [],
   "source": [
    "#  File Writing mode\n",
    "with open('log.txt', 'w') as fileW:\n",
    "    fileW.write(\"This is the line that written by PYTHON code.\")\n",
    "    # print(fileW.readlines())\n",
    "    \n",
    "\n",
    "    "
   ]
  },
  {
   "cell_type": "code",
   "execution_count": 67,
   "metadata": {},
   "outputs": [
    {
     "output_type": "stream",
     "name": "stdout",
     "text": "2020-05-04 14:09:12 -  0\n2020-05-04 14:09:13 -  1\n2020-05-04 14:09:14 -  2\n2020-05-04 14:09:15 -  3\n2020-05-04 14:09:16 -  4\n2020-05-04 14:09:17 -  5\n2020-05-04 14:09:18 -  6\n2020-05-04 14:09:19 -  7\n2020-05-04 14:09:20 -  8\n2020-05-04 14:09:21 -  9\n"
    }
   ],
   "source": [
    "from datetime import datetime\n",
    "import time\n",
    "with open('logTime.txt', 'w') as f:\n",
    "    for i in range(0,10):\n",
    "        print(datetime.now().strftime('%Y-%m-%d %H:%M:%S - '),i)\n",
    "        f.write(datetime.now().strftime('%Y-%m-%d %H:%M:%S - ' + str(i)));\n",
    "        time.sleep(1)\n",
    "        # f.write();\n",
    "        f.write(\"\\n\")\n",
    "# f.close()"
   ]
  },
  {
   "cell_type": "code",
   "execution_count": null,
   "metadata": {},
   "outputs": [],
   "source": []
  }
 ],
 "metadata": {
  "language_info": {
   "codemirror_mode": {
    "name": "ipython",
    "version": 3
   },
   "file_extension": ".py",
   "mimetype": "text/x-python",
   "name": "python",
   "nbconvert_exporter": "python",
   "pygments_lexer": "ipython3",
   "version": "3.7.4-final"
  },
  "orig_nbformat": 2,
  "kernelspec": {
   "name": "python37464bitenvvenv4c4fef665e5b4c319ca9b5ef8588100f",
   "display_name": "Python 3.7.4 64-bit ('env': venv)"
  }
 },
 "nbformat": 4,
 "nbformat_minor": 2
}