{
 "cells": [
  {
   "cell_type": "code",
   "execution_count": 38,
   "metadata": {
    "scrolled": false
   },
   "outputs": [],
   "source": [
    "import datetime as dt\n",
    "from dateutil import tz\n",
    "import time"
   ]
  },
  {
   "cell_type": "code",
   "execution_count": 28,
   "metadata": {},
   "outputs": [
    {
     "name": "stdout",
     "output_type": "stream",
     "text": [
      "2020-05-05 00:00:00\n"
     ]
    }
   ],
   "source": [
    "d1 = datetime.datetime(2020, 5, 5, \n",
    "                       tzinfo=tz.gettz(\"Asia/kolkatta\"))\n",
    "print(d1)"
   ]
  },
  {
   "cell_type": "code",
   "execution_count": 35,
   "metadata": {},
   "outputs": [
    {
     "data": {
      "text/plain": [
       "datetime.timedelta(days=1, seconds=1800)"
      ]
     },
     "execution_count": 35,
     "metadata": {},
     "output_type": "execute_result"
    }
   ],
   "source": [
    "d1 = dt.datetime(2019, 2, 25, 10, 50,\n",
    "                 tzinfo=dt.timezone.utc)\n",
    "d2 = dt.datetime(2019, 2, 26, 11, 20,\n",
    "                 tzinfo=dt.timezone.utc)\n",
    "d2 - d1"
   ]
  },
  {
   "cell_type": "code",
   "execution_count": 39,
   "metadata": {},
   "outputs": [
    {
     "data": {
      "text/plain": [
       "88200.0"
      ]
     },
     "execution_count": 39,
     "metadata": {},
     "output_type": "execute_result"
    }
   ],
   "source": [
    "td = d2 - d1\n",
    "td.total_seconds()"
   ]
  },
  {
   "cell_type": "code",
   "execution_count": 46,
   "metadata": {},
   "outputs": [
    {
     "name": "stdout",
     "output_type": "stream",
     "text": [
      "1588680082.1285787 2020-05-05 12:01:22.128578+00:00\n"
     ]
    }
   ],
   "source": [
    "time_now = time.time()\n",
    "datetime_now = dt.datetime.now(dt.timezone.utc)\n",
    "print(time_now, datetime_now )"
   ]
  },
  {
   "cell_type": "code",
   "execution_count": 47,
   "metadata": {},
   "outputs": [],
   "source": [
    "import os\n",
    "import sys\n",
    "import platform\n"
   ]
  },
  {
   "cell_type": "code",
   "execution_count": 53,
   "metadata": {},
   "outputs": [
    {
     "name": "stdout",
     "output_type": "stream",
     "text": [
      "Platforma 15140\n",
      "Parent P id  2548\n",
      "Machine network name: My-Computer\n",
      "Python version: 3.7.6\n",
      "System: Windows\n",
      "Python module lookup path: ['C:\\\\Users\\\\Vikas\\\\Desktop\\\\WorkShop\\\\6', 'C:\\\\Users\\\\Vikas\\\\anaconda3\\\\python37.zip', 'C:\\\\Users\\\\Vikas\\\\anaconda3\\\\DLLs', 'C:\\\\Users\\\\Vikas\\\\anaconda3\\\\lib', 'C:\\\\Users\\\\Vikas\\\\anaconda3', '', 'C:\\\\Users\\\\Vikas\\\\AppData\\\\Roaming\\\\Python\\\\Python37\\\\site-packages', 'C:\\\\Users\\\\Vikas\\\\anaconda3\\\\lib\\\\site-packages', 'C:\\\\Users\\\\Vikas\\\\anaconda3\\\\lib\\\\site-packages\\\\win32', 'C:\\\\Users\\\\Vikas\\\\anaconda3\\\\lib\\\\site-packages\\\\win32\\\\lib', 'C:\\\\Users\\\\Vikas\\\\anaconda3\\\\lib\\\\site-packages\\\\Pythonwin', 'C:\\\\Users\\\\Vikas\\\\anaconda3\\\\lib\\\\site-packages\\\\IPython\\\\extensions', 'C:\\\\Users\\\\Vikas\\\\.ipython']\n",
      "Command to run Python: ['C:\\\\Users\\\\Vikas\\\\anaconda3\\\\lib\\\\site-packages\\\\ipykernel_launcher.py', '-f', 'C:\\\\Users\\\\Vikas\\\\AppData\\\\Roaming\\\\jupyter\\\\runtime\\\\kernel-6d0669e6-5276-4201-a555-8035cc75300d.json']\n",
      "USERNAME environment variable: Vikas\n"
     ]
    }
   ],
   "source": [
    "print(\"Platforma\" , os.getpid() )\n",
    "print(\"Parent P id \", os.getppid())\n",
    "\n",
    "print(\"Machine network name:\", platform.node())\n",
    "print(\"Python version:\", platform.python_version())\n",
    "print(\"System:\", platform.system())\n",
    "\n",
    "print(\"Python module lookup path:\", sys.path)\n",
    "print(\"Command to run Python:\", sys.argv)\n",
    "\n",
    "print(\"USERNAME environment variable:\", os.environ[\"USERNAME\"])\n"
   ]
  },
  {
   "cell_type": "code",
   "execution_count": 58,
   "metadata": {},
   "outputs": [
    {
     "name": "stdout",
     "output_type": "stream",
     "text": [
      "vikas found\n"
     ]
    }
   ],
   "source": [
    "data = \"vikas\"\n",
    "#  access outer variable inside this function\n",
    "def check():\n",
    "    if \"vikas\" is data:\n",
    "        print(data, \"found\")\n",
    "        return\n",
    "    print(\"Not Found name\")\n",
    "    \n",
    "check()\n"
   ]
  },
  {
   "cell_type": "code",
   "execution_count": 64,
   "metadata": {},
   "outputs": [],
   "source": [
    "_audit = {}\n",
    "def add_audit(area, action):\n",
    "    if area in _audit:\n",
    "        _audit[area].append(action)\n",
    "    else:\n",
    "        _audit[area] = [action]       \n",
    "def report_audit():\n",
    "    for area, actions in _audit.items():\n",
    "        print(f\"{area} audit:\")\n",
    "        for action in actions:\n",
    "            print(f\"- {action}\")\n",
    "        print()"
   ]
  },
  {
   "cell_type": "code",
   "execution_count": 65,
   "metadata": {},
   "outputs": [
    {
     "name": "stdout",
     "output_type": "stream",
     "text": [
      "HR audit:\n",
      "- Hired Sam\n",
      "- Hired Tom\n",
      "\n",
      "Finance audit:\n",
      "- Used 1000£\n",
      "\n"
     ]
    }
   ],
   "source": [
    "add_audit(\"HR\", \"Hired Sam\")\n",
    "add_audit(\"Finance\", \"Used 1000£\")\n",
    "\n",
    "add_audit(\"HR\", \"Hired Tom\")\n",
    "report_audit()\n"
   ]
  },
  {
   "cell_type": "code",
   "execution_count": null,
   "metadata": {},
   "outputs": [],
   "source": []
  }
 ],
 "metadata": {
  "kernelspec": {
   "display_name": "Python 3",
   "language": "python",
   "name": "python3"
  },
  "language_info": {
   "codemirror_mode": {
    "name": "ipython",
    "version": 3
   },
   "file_extension": ".py",
   "mimetype": "text/x-python",
   "name": "python",
   "nbconvert_exporter": "python",
   "pygments_lexer": "ipython3",
   "version": "3.7.6"
  }
 },
 "nbformat": 4,
 "nbformat_minor": 4
}
